{
 "cells": [
  {
   "cell_type": "code",
   "execution_count": 1,
   "id": "139b53e7-ac9c-4e32-82ea-c338b4a0ecda",
   "metadata": {},
   "outputs": [
    {
     "name": "stdout",
     "output_type": "stream",
     "text": [
      "Your secret key is: 4793012b5b5c38f13f02093faedf2fc6bdd3f750c62b7228f3935dfa815f92de\n"
     ]
    }
   ],
   "source": [
    "import secrets\n",
    "\n",
    "# Generate a 32-byte (256-bit) secure secret key\n",
    "secret_key = secrets.token_hex(32)\n",
    "\n",
    "print(\"Your secret key is:\", secret_key)\n"
   ]
  },
  {
   "cell_type": "code",
   "execution_count": null,
   "id": "295b7601-fc48-4a32-93d5-4e95d61e71a7",
   "metadata": {},
   "outputs": [],
   "source": []
  }
 ],
 "metadata": {
  "kernelspec": {
   "display_name": "Python 3 (ipykernel)",
   "language": "python",
   "name": "python3"
  },
  "language_info": {
   "codemirror_mode": {
    "name": "ipython",
    "version": 3
   },
   "file_extension": ".py",
   "mimetype": "text/x-python",
   "name": "python",
   "nbconvert_exporter": "python",
   "pygments_lexer": "ipython3",
   "version": "3.13.5"
  }
 },
 "nbformat": 4,
 "nbformat_minor": 5
}
